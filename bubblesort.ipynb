{
 "cells": [
  {
   "cell_type": "code",
   "execution_count": 1,
   "id": "102198f6-b50f-423e-9f23-becdf57014a0",
   "metadata": {},
   "outputs": [
    {
     "name": "stdout",
     "output_type": "stream",
     "text": [
      "[581, 209, 86, 276, 939, 879, 732, 976, 726, 998, 502, 662, 197, 929, 728, 256, 423, 822, 380, 721, 21, 166, 30, 130, 141, 821, 682, 113, 690, 194, 81, 890, 360, 176, 868, 50, 833, 405, 590, 830, 269, 488, 515, 338, 794, 571, 173, 764, 436, 860, 375, 710, 383, 971, 164, 583, 429, 654, 124, 489, 865, 341, 845, 373, 478, 790, 811, 157, 548, 749, 829, 953, 964, 469, 699, 672, 520, 880, 449, 10, 296, 132, 377, 631, 74, 25, 620, 898, 270, 219, 625, 828, 596, 987, 736, 746, 517, 960, 819, 886]\n",
      "100\n"
     ]
    }
   ],
   "source": [
    "import random\n",
    "n = random.sample(range(0, 1000), 100)\n",
    "print(n)\n",
    "print(len(n))"
   ]
  },
  {
   "cell_type": "code",
   "execution_count": 2,
   "id": "39323b70-55a5-4f5f-a1e5-3f660ed3a206",
   "metadata": {},
   "outputs": [],
   "source": [
    "def bubblesort(L):\n",
    "    for k in range(len(L)-1):\n",
    "        for j in range(len(L)-1-k):\n",
    "            if L[j]>L[j+1]:\n",
    "                aux=L[j]\n",
    "                L[j]=L[j+1]\n",
    "                L[j+1]=aux\n",
    "    return L"
   ]
  },
  {
   "cell_type": "code",
   "execution_count": 3,
   "id": "3a060013-42c3-4e19-9c6d-fe56ba153ab0",
   "metadata": {},
   "outputs": [
    {
     "name": "stdout",
     "output_type": "stream",
     "text": [
      "[10, 21, 25, 30, 50, 74, 81, 86, 113, 124, 130, 132, 141, 157, 164, 166, 173, 176, 194, 197, 209, 219, 256, 269, 270, 276, 296, 338, 341, 360, 373, 375, 377, 380, 383, 405, 423, 429, 436, 449, 469, 478, 488, 489, 502, 515, 517, 520, 548, 571, 581, 583, 590, 596, 620, 625, 631, 654, 662, 672, 682, 690, 699, 710, 721, 726, 728, 732, 736, 746, 749, 764, 790, 794, 811, 819, 821, 822, 828, 829, 830, 833, 845, 860, 865, 868, 879, 880, 886, 890, 898, 929, 939, 953, 960, 964, 971, 976, 987, 998]\n",
      "100\n"
     ]
    }
   ],
   "source": [
    "n2=bubblesort(n)\n",
    "print(n2)\n",
    "print(len(n2))"
   ]
  },
  {
   "cell_type": "code",
   "execution_count": null,
   "id": "e3166aa7-770f-439c-9e44-c33d6577ed89",
   "metadata": {},
   "outputs": [],
   "source": []
  }
 ],
 "metadata": {
  "kernelspec": {
   "display_name": "Python 3 (ipykernel)",
   "language": "python",
   "name": "python3"
  },
  "language_info": {
   "codemirror_mode": {
    "name": "ipython",
    "version": 3
   },
   "file_extension": ".py",
   "mimetype": "text/x-python",
   "name": "python",
   "nbconvert_exporter": "python",
   "pygments_lexer": "ipython3",
   "version": "3.9.7"
  }
 },
 "nbformat": 4,
 "nbformat_minor": 5
}
